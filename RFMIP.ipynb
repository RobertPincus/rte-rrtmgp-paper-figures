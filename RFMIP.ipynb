{
 "cells": [
  {
   "cell_type": "code",
   "execution_count": 1,
   "metadata": {},
   "outputs": [],
   "source": [
    "%matplotlib inline\n",
    "import matplotlib.pyplot as plt\n",
    "import seaborn as sb\n",
    "import xarray as xr\n",
    "import numpy as np                \n",
    "import os, subprocess, glob\n",
    "from shutil import copy2"
   ]
  },
  {
   "cell_type": "code",
   "execution_count": 83,
   "metadata": {},
   "outputs": [
    {
     "data": {
      "text/plain": [
       "(array(0), array(60))"
      ]
     },
     "execution_count": 83,
     "metadata": {},
     "output_type": "execute_result"
    }
   ],
   "source": [
    "new = xr.open_mfdataset('/Users/robert/Codes/rte-rrtmgp/examples/rfmip-clear-sky/r??_template.nc')\n",
    "ref = xr.open_mfdataset('/Users/robert/Dropbox/Scientific/Projects/RFMIP/RFMIP-IRF/LBLRTM/r??.nc')\n",
    "new.load()\n",
    "ref.load()\n",
    "conds = xr.open_dataset('/Users/robert/Codes/rte-rrtmgp/examples/rfmip-clear-sky/multiple_input4MIPs_radiation_RFMIP_UColorado-RFMIP-0-4_none.nc')\n",
    "conds.load()             \n",
    "toa = conds.isel(site=0,expt=0).pres_level.argmin()\n",
    "sfc = conds.isel(site=0,expt=0).pres_level.argmax()\n",
    "(toa.values, sfc.values)"
   ]
  },
  {
   "cell_type": "code",
   "execution_count": 82,
   "metadata": {},
   "outputs": [
    {
     "name": "stdout",
     "output_type": "stream",
     "text": [
      "Fluxes at present day\n",
      "Mean at toa <xarray.Dataset>\n",
      "Dimensions:         ()\n",
      "Coordinates:\n",
      "    lon             float32 27.0\n",
      "    lat             float32 -28.5\n",
      "    time            datetime64[ns] 2014-01-05T06:00:00\n",
      "Data variables:\n",
      "    plev            float32 0.009999999\n",
      "    rld             float32 0.0\n",
      "    profile_weight  float64 0.01053\n",
      "    rlu             float32 266.04184\n",
      "    rsd             float32 335.07663\n",
      "    rsu             float32 47.372665\n",
      "Error at toa <xarray.Dataset>\n",
      "Dimensions:         ()\n",
      "Coordinates:\n",
      "    lon             float32 27.0\n",
      "    lat             float32 -28.5\n",
      "    time            datetime64[ns] 2014-01-05T06:00:00\n",
      "Data variables:\n",
      "    plev            float32 0.0\n",
      "    rld             float32 0.0\n",
      "    profile_weight  float64 0.0\n",
      "    rlu             float32 -0.11514282\n",
      "    rsd             float32 0.11260986\n",
      "    rsu             float32 0.22745895\n",
      "Mean at sfc <xarray.Dataset>\n",
      "Dimensions:         ()\n",
      "Coordinates:\n",
      "    lon             float32 27.0\n",
      "    lat             float32 -28.5\n",
      "    time            datetime64[ns] 2014-01-05T06:00:00\n",
      "Data variables:\n",
      "    plev            float32 98620.88\n",
      "    rld             float32 313.26306\n",
      "    profile_weight  float64 0.01053\n",
      "    rlu             float32 397.80563\n",
      "    rsd             float32 246.08745\n",
      "    rsu             float32 30.205791\n",
      "Error at sfc <xarray.Dataset>\n",
      "Dimensions:         ()\n",
      "Coordinates:\n",
      "    lon             float32 27.0\n",
      "    lat             float32 -28.5\n",
      "    time            datetime64[ns] 2014-01-05T06:00:00\n",
      "Data variables:\n",
      "    plev            float32 0.0\n",
      "    rld             float32 0.81967163\n",
      "    profile_weight  float64 0.0\n",
      "    rlu             float32 0.010559082\n",
      "    rsd             float32 0.26950073\n",
      "    rsu             float32 -0.06945419\n"
     ]
    }
   ],
   "source": [
    "print(\"Fluxes at present day\")\n",
    "ref_avg = (ref * ref.profile_weight).sum(dim='site')\n",
    "new_avg = (new * new.profile_weight).sum(dim='site')\n",
    "print(\"Mean at toa\",             ref_avg.isel(expt=1,level=toa))\n",
    "print(\"Error at toa\", (new_avg - ref_avg).isel(expt=1,level=toa)) \n",
    "print(\"Mean at sfc\",             ref_avg.isel(expt=1,level=sfc))\n",
    "print(\"Error at sfc\", (new_avg - ref_avg).isel(expt=1,level=sfc)) \n"
   ]
  },
  {
   "cell_type": "code",
   "execution_count": 62,
   "metadata": {},
   "outputs": [
    {
     "name": "stdout",
     "output_type": "stream",
     "text": [
      "Forcing relative to PI\n",
      "Up at TOA\n",
      "Longwave 0.14799976 -2.8446794\n",
      "Shortwave 0.0070251897 -0.05815421\n",
      "Net absorption\n",
      "Longwave -0.054691195 0.8033571\n",
      "Shortwave -0.05080214 0.52163047\n",
      "Down at surface\n",
      "Longwave -0.09520328 2.0829737\n",
      "Shortwave 0.06421837 -0.53439766\n"
     ]
    }
   ],
   "source": [
    "# RFMIP results: Error (and forcing) relative to PI\n",
    "#\n",
    "# Forcing - Present-day minus pre-industrial (see conds.expt_label)\n",
    "#\n",
    "ref_f = ref.isel(expt=0) - ref.isel(expt=1)\n",
    "new_f = new.isel(expt=0) - new.isel(expt=1)\n",
    "\n",
    "print(\"Forcing relative to PI\")\n",
    "\n",
    "# Someone more Pythonic than I would turn this into a data frame. \n",
    "ref_f_avg = (ref_f * ref.profile_weight).sum(dim='site')\n",
    "new_f_avg = (new_f * new.profile_weight).sum(dim='site')\n",
    "\n",
    "# Up at top of atmosphere\n",
    "print(\"Up at TOA\")\n",
    "print(\"Longwave\",  (new_f_avg - ref_f_avg).isel(level=toa).rlu.values, ref_f_avg.isel(level=toa).rlu.values)\n",
    "print(\"Shortwave\", (new_f_avg - ref_f_avg).isel(level=toa).rsu.values, ref_f_avg.isel(level=toa).rsu.values)\n",
    "\n",
    "# Down minus up, toa minus surface\n",
    "ref_f_avg_rln =  ref_f_avg.rld - ref_f_avg.rlu\n",
    "new_f_avg_rln =  new_f_avg.rld - new_f_avg.rlu\n",
    "ref_f_avg_rsn =  ref_f_avg.rsd - ref_f_avg.rsu\n",
    "new_f_avg_rsn =  new_f_avg.rsd - new_f_avg.rsu\n",
    "print(\"Net absorption\")\n",
    "print(\"Longwave\", \\\n",
    "      (new_f_avg_rln.isel(level=toa) - new_f_avg_rln.sel(level=sfc)).values - \\\n",
    "      (ref_f_avg_rln.isel(level=toa) - ref_f_avg_rln.sel(level=sfc)).values, \\\n",
    "      (ref_f_avg_rln.isel(level=toa) - ref_f_avg_rln.sel(level=sfc)).values)\n",
    "print(\"Shortwave\", \\\n",
    "      (new_f_avg_rsn.isel(level=toa) - new_f_avg_rsn.sel(level=sfc)).values - \\\n",
    "      (ref_f_avg_rsn.isel(level=toa) - ref_f_avg_rsn.sel(level=sfc)).values, \\\n",
    "      (ref_f_avg_rsn.isel(level=toa) - ref_f_avg_rsn.sel(level=sfc)).values)\n",
    "\n",
    "# Down at surface \n",
    "print(\"Down at surface\")\n",
    "print(\"Longwave\",  (new_f_avg - ref_f_avg).isel(level=sfc).rld.values, ref_f_avg.isel(level=sfc).rld.values)\n",
    "print(\"Shortwave\", (new_f_avg - ref_f_avg).isel(level=sfc).rsd.values, ref_f_avg.isel(level=sfc).rsd.values)"
   ]
  },
  {
   "cell_type": "code",
   "execution_count": 84,
   "metadata": {},
   "outputs": [],
   "source": [
    "ref.close()\n",
    "new.close()"
   ]
  }
 ],
 "metadata": {
  "kernelspec": {
   "display_name": "Python 3",
   "language": "python",
   "name": "python3"
  },
  "language_info": {
   "codemirror_mode": {
    "name": "ipython",
    "version": 3
   },
   "file_extension": ".py",
   "mimetype": "text/x-python",
   "name": "python",
   "nbconvert_exporter": "python",
   "pygments_lexer": "ipython3",
   "version": "3.6.5"
  }
 },
 "nbformat": 4,
 "nbformat_minor": 2
}
