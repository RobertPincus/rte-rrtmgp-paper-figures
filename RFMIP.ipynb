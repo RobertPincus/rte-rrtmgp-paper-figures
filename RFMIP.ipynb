{
 "cells": [
  {
   "cell_type": "code",
   "execution_count": 1,
   "metadata": {},
   "outputs": [],
   "source": [
    "%matplotlib inline\n",
    "import matplotlib.pyplot as plt\n",
    "import seaborn as sb\n",
    "import xarray as xr\n",
    "import numpy as np                \n",
    "import os, subprocess\n",
    "from shutil import copy2"
   ]
  },
  {
   "cell_type": "code",
   "execution_count": 2,
   "metadata": {},
   "outputs": [
    {
     "data": {
      "text/plain": [
       "(<xarray.DataArray 'pres_level' ()>\n",
       " array(0)\n",
       " Coordinates:\n",
       "     lon      float32 27.0\n",
       "     lat      float32 -28.5\n",
       "     time     datetime64[ns] 2014-01-05T06:00:00,\n",
       " <xarray.DataArray 'pres_level' ()>\n",
       " array(60)\n",
       " Coordinates:\n",
       "     lon      float32 27.0\n",
       "     lat      float32 -28.5\n",
       "     time     datetime64[ns] 2014-01-05T06:00:00)"
      ]
     },
     "execution_count": 2,
     "metadata": {},
     "output_type": "execute_result"
    }
   ],
   "source": [
    "new = xr.open_mfdataset('/Users/robert/Codes/rte-rrtmgp/examples/rfmip-clear-sky/r??_template.nc')\n",
    "ref = xr.open_mfdataset('/Users/robert/Dropbox/Scientific/Projects/RFMIP/RFMIP-IRF/LBLRTM/r??.nc')\n",
    "new.load()\n",
    "ref.load()\n",
    "conds = xr.open_dataset('/Users/robert/Codes/rte-rrtmgp/examples/rfmip-clear-sky/multiple_input4MIPs_radiation_RFMIP_UColorado-RFMIP-0-4_none.nc')\n",
    "conds.load()             \n",
    "toa = conds.isel(site=0,expt=0).pres_level.argmin()\n",
    "sfc = conds.isel(site=0,expt=0).pres_level.argmax()\n",
    "(toa, sfc)"
   ]
  },
  {
   "cell_type": "code",
   "execution_count": 3,
   "metadata": {},
   "outputs": [
    {
     "name": "stdout",
     "output_type": "stream",
     "text": [
      "Fluxes at present day\n",
      "Mean at toa <xarray.Dataset>\n",
      "Dimensions:         ()\n",
      "Data variables:\n",
      "    plev            float64 0.01\n",
      "    rld             float64 0.0\n",
      "    profile_weight  float64 0.01053\n",
      "    rlu             float64 266.0\n",
      "    rsd             float64 335.1\n",
      "    rsu             float64 47.37\n",
      "Err  at toa <xarray.Dataset>\n",
      "Dimensions:         ()\n",
      "Data variables:\n",
      "    plev            float64 0.0\n",
      "    rld             float64 0.0\n",
      "    profile_weight  float64 0.0\n",
      "    rlu             float64 -0.1151\n",
      "    rsd             float64 0.1126\n",
      "    rsu             float64 0.2275\n",
      "Mean at sfc <xarray.Dataset>\n",
      "Dimensions:         ()\n",
      "Data variables:\n",
      "    plev            float64 9.862e+04\n",
      "    rld             float64 313.3\n",
      "    profile_weight  float64 0.01053\n",
      "    rlu             float64 397.8\n",
      "    rsd             float64 246.1\n",
      "    rsu             float64 30.21\n",
      "Err  at toa <xarray.Dataset>\n",
      "Dimensions:         ()\n",
      "Data variables:\n",
      "    plev            float64 0.0\n",
      "    rld             float64 0.8197\n",
      "    profile_weight  float64 0.0\n",
      "    rlu             float64 0.01056\n",
      "    rsd             float64 0.2695\n",
      "    rsu             float64 -0.06945\n"
     ]
    }
   ],
   "source": [
    "print(\"Fluxes at present day\")\n",
    "print(\"Mean at toa\", (ref.isel(expt=1,level=toa) * ref.profile_weight).sum())\n",
    "print(\"Err  at toa\", (new.isel(expt=1,level=toa) * new.profile_weight).sum() - (ref.isel(expt=1,level=toa) * ref.profile_weight).sum())\n",
    "print(\"Mean at sfc\", (ref.isel(expt=1,level=sfc) * ref.profile_weight).sum())\n",
    "print(\"Err  at toa\", (new.isel(expt=1,level=sfc) * new.profile_weight).sum() - (ref.isel(expt=1,level=sfc) * ref.profile_weight).sum())"
   ]
  },
  {
   "cell_type": "code",
   "execution_count": 4,
   "metadata": {},
   "outputs": [
    {
     "name": "stdout",
     "output_type": "stream",
     "text": [
      "Forcing relative to PI\n",
      "Mean at toa <xarray.Dataset>\n",
      "Dimensions:         ()\n",
      "Data variables:\n",
      "    plev            float64 0.0\n",
      "    rld             float64 0.0\n",
      "    profile_weight  float64 0.0\n",
      "    rlu             float64 2.845\n",
      "    rsd             float64 0.01483\n",
      "    rsu             float64 0.05815\n",
      "Err  at toa <xarray.Dataset>\n",
      "Dimensions:         ()\n",
      "Data variables:\n",
      "    plev            float64 0.0\n",
      "    rld             float64 0.0\n",
      "    profile_weight  float64 0.0\n",
      "    rlu             float64 -0.148\n",
      "    rsd             float64 -0.01483\n",
      "    rsu             float64 -0.007025\n",
      "Mean at sfc <xarray.Dataset>\n",
      "Dimensions:         ()\n",
      "Data variables:\n",
      "    plev            float64 0.0\n",
      "    rld             float64 -2.083\n",
      "    profile_weight  float64 0.0\n",
      "    rlu             float64 -0.04165\n",
      "    rsd             float64 0.5344\n",
      "    rsu             float64 0.05609\n",
      "Err  at toa <xarray.Dataset>\n",
      "Dimensions:         ()\n",
      "Data variables:\n",
      "    plev            float64 0.0\n",
      "    rld             float64 0.0952\n",
      "    profile_weight  float64 0.0\n",
      "    rlu             float64 0.001895\n",
      "    rsd             float64 -0.06422\n",
      "    rsu             float64 -0.005612\n"
     ]
    }
   ],
   "source": [
    "#\n",
    "# Forcing - check defintion (which is PI, PD?)\n",
    "#\n",
    "ref_f = ref.isel(expt=1) - ref.isel(expt=0)\n",
    "new_f = new.isel(expt=1) - new.isel(expt=0)\n",
    "\n",
    "print(\"Forcing relative to PI\")\n",
    "print(\"Mean at toa\", (ref_f.isel(level=toa) * ref.profile_weight).sum())\n",
    "print(\"Err  at toa\", (new_f.isel(level=toa) * new.profile_weight).sum() - (ref_f.isel(level=toa) * ref.profile_weight).sum())\n",
    "print(\"Mean at sfc\", (ref_f.isel(level=sfc) * ref.profile_weight).sum())\n",
    "print(\"Err  at toa\", (new_f.isel(level=sfc) * new.profile_weight).sum() - (ref_f.isel(level=sfc) * ref.profile_weight).sum())"
   ]
  },
  {
   "cell_type": "code",
   "execution_count": 5,
   "metadata": {},
   "outputs": [
    {
     "name": "stdout",
     "output_type": "stream",
     "text": [
      "Range in errrors in longwave fluxes by experiment\n",
      "rld [-1.4260254 -1.2331848 -1.3813782 -1.4242249 -1.6044617 -1.4402466\n",
      " -1.430481  -1.8424072 -1.3729858 -1.325592  -1.4216309 -1.4463196\n",
      " -1.3533325 -1.4832458 -1.4559631 -4.082779  -1.4179077 -1.2713013]\n",
      "    [3.1961365 3.2493286 3.1679382 3.1982117 3.285736  3.1412659 3.1270447\n",
      " 3.5472412 3.2499084 3.2149963 3.1922302 3.1704712 3.20578   3.3215332\n",
      " 3.7028198 2.670807  3.3449097 3.255127 ]\n",
      "rlu [ -1.7913513  -1.7401428  -1.9126587  -1.7939758  -1.5116577  -1.8092346\n",
      "  -1.8487244  -2.298462   -1.7626038  -1.7842712  -1.7858887  -1.7650757\n",
      "  -1.8248596 -18.961182  -18.556183  -18.850464  -65.55286    -1.6076355]\n",
      "    [1.001831   0.81048584 0.9102783  1.0022583  1.1364441  0.978302\n",
      " 0.9441223  0.79574585 1.0302124  0.96255493 0.96694946 0.9734802\n",
      " 0.8695984  0.06921387 0.081604   0.05725098 0.06939697 0.7457886 ]\n",
      "Range in errrors in shortwave fluxes by experiment\n",
      "rsd [-2.2943726 -2.36969  ]\n",
      "    [1.7263031 1.7143707]\n",
      "rsu [-7.9863424 -7.9505982]\n",
      "    [12.841804 12.811759]\n"
     ]
    }
   ],
   "source": [
    "print(\"Range in errrors in longwave fluxes by experiment\")\n",
    "for v in [\"rld\", \"rlu\"]: \n",
    "  print(v,     (new.variables[v] - ref.variables[v]).min(dim=\"site\").min(dim=\"level\").values) \n",
    "  print(\"   \", (new.variables[v] - ref.variables[v]).max(dim=\"site\").max(dim=\"level\").values)\n",
    "\n",
    "print(\"Range in errrors in shortwave fluxes by experiment\")\n",
    "for v in [\"rsd\", \"rsu\"]: \n",
    "  print(v, \n",
    "        (new.isel(expt=[0,1]).variables[v] - ref.isel(expt=[0,1]).variables[v]).min(dim=\"site\").min(dim=\"level\").values) \n",
    "  print(\"   \", \n",
    "        (new.isel(expt=[0,1]).variables[v] - ref.isel(expt=[0,1]).variables[v]).max(dim=\"site\").max(dim=\"level\").values)\n",
    "\n"
   ]
  },
  {
   "cell_type": "code",
   "execution_count": 6,
   "metadata": {},
   "outputs": [],
   "source": [
    "ref.close()\n",
    "new.close()"
   ]
  }
 ],
 "metadata": {
  "kernelspec": {
   "display_name": "Python 3",
   "language": "python",
   "name": "python3"
  },
  "language_info": {
   "codemirror_mode": {
    "name": "ipython",
    "version": 3
   },
   "file_extension": ".py",
   "mimetype": "text/x-python",
   "name": "python",
   "nbconvert_exporter": "python",
   "pygments_lexer": "ipython3",
   "version": "3.6.5"
  }
 },
 "nbformat": 4,
 "nbformat_minor": 2
}
