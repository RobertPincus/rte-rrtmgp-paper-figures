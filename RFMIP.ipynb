{
 "cells": [
  {
   "cell_type": "code",
   "execution_count": 1,
   "metadata": {},
   "outputs": [],
   "source": [
    "%matplotlib inline\n",
    "import matplotlib.pyplot as plt\n",
    "import seaborn as sb\n",
    "import xarray as xr\n",
    "import numpy as np                \n",
    "import os, subprocess\n",
    "from shutil import copy2"
   ]
  },
  {
   "cell_type": "code",
   "execution_count": 48,
   "metadata": {},
   "outputs": [
    {
     "data": {
      "text/plain": [
       "(<xarray.Variable ()>\n",
       " array(0), <xarray.Variable ()>\n",
       " array(60))"
      ]
     },
     "execution_count": 48,
     "metadata": {},
     "output_type": "execute_result"
    }
   ],
   "source": [
    "new = xr.open_mfdataset('/Users/robert/Codes/rte-rrtmgp/examples/rfmip-clear-sky/r??_template.nc')\n",
    "ref = xr.open_mfdataset('/Users/robert/Dropbox/Scientific/Projects/RFMIP/RFMIP-IRF/LBLRTM/r??.nc')\n",
    "new.load()\n",
    "ref.load()\n",
    "conds = xr.open_dataset('/Users/robert/Codes/rte-rrtmgp/examples/rfmip-clear-sky/multiple_input4MIPs_radiation_RFMIP_UColorado-RFMIP-0-4_none.nc')\n",
    "conds.load()             \n",
    "toa = conds.isel(site=0,expt=0).variables[\"pres_level\"].argmin()\n",
    "sfc = conds.isel(site=0,expt=0).variables[\"pres_level\"].argmax()\n",
    "(toa, sfc)"
   ]
  },
  {
   "cell_type": "code",
   "execution_count": 59,
   "metadata": {},
   "outputs": [
    {
     "name": "stdout",
     "output_type": "stream",
     "text": [
      "Fluxes at present day\n",
      "Mean at toa <xarray.Dataset>\n",
      "Dimensions:         ()\n",
      "Data variables:\n",
      "    plev            float64 0.01\n",
      "    rld             float64 0.0\n",
      "    profile_weight  float64 0.01053\n",
      "    rlu             float64 266.0\n",
      "    rsd             float64 335.1\n",
      "    rsu             float64 47.37\n",
      "Err  at toa <xarray.Dataset>\n",
      "Dimensions:         ()\n",
      "Data variables:\n",
      "    plev            float64 0.0\n",
      "    rld             float64 0.0\n",
      "    profile_weight  float64 0.0\n",
      "    rlu             float64 -0.1105\n",
      "    rsd             float64 0.1126\n",
      "    rsu             float64 0.2275\n",
      "Mean at sfc <xarray.Dataset>\n",
      "Dimensions:         ()\n",
      "Data variables:\n",
      "    plev            float64 9.862e+04\n",
      "    rld             float64 313.3\n",
      "    profile_weight  float64 0.01053\n",
      "    rlu             float64 397.8\n",
      "    rsd             float64 246.1\n",
      "    rsu             float64 30.21\n",
      "Err  at sfc <xarray.Dataset>\n",
      "Dimensions:         ()\n",
      "Data variables:\n",
      "    plev            float64 0.0\n",
      "    rld             float64 0.8184\n",
      "    profile_weight  float64 0.0\n",
      "    rlu             float64 0.0105\n",
      "    rsd             float64 0.2694\n",
      "    rsu             float64 -0.06945\n",
      "Forcing relative to PI\n",
      "Mean at toa <xarray.Dataset>\n",
      "Dimensions:         ()\n",
      "Data variables:\n",
      "    plev            float64 0.0\n",
      "    rld             float64 0.0\n",
      "    profile_weight  float64 0.0\n",
      "    rlu             float64 2.845\n",
      "    rsd             float64 0.01483\n",
      "    rsu             float64 0.05815\n",
      "Err  at toa <xarray.Dataset>\n",
      "Dimensions:         ()\n",
      "Data variables:\n",
      "    plev            float64 0.0\n",
      "    rld             float64 0.0\n",
      "    profile_weight  float64 0.0\n",
      "    rlu             float64 -0.562\n",
      "    rsd             float64 -0.01483\n",
      "    rsu             float64 -0.007025\n"
     ]
    }
   ],
   "source": [
    "print(\"Fluxes at present day\")\n",
    "print(\"Mean at toa\", (      ref.isel(expt=1,level=toa) * ref.variables[\"profile_weight\"]).sum())\n",
    "print(\"Err  at toa\", ((new-ref).isel(expt=1,level=toa) * ref.variables[\"profile_weight\"]).sum())\n",
    "print(\"Mean at sfc\", (      ref.isel(expt=1,level=sfc) * ref.variables[\"profile_weight\"]).sum())\n",
    "print(\"Err  at sfc\", ((new-ref).isel(expt=1,level=sfc) * ref.variables[\"profile_weight\"]).sum())"
   ]
  },
  {
   "cell_type": "code",
   "execution_count": 60,
   "metadata": {},
   "outputs": [
    {
     "name": "stdout",
     "output_type": "stream",
     "text": [
      "Forcing relative to PI\n",
      "Mean at toa <xarray.Dataset>\n",
      "Dimensions:         ()\n",
      "Data variables:\n",
      "    plev            float64 0.0\n",
      "    rld             float64 0.0\n",
      "    profile_weight  float64 0.0\n",
      "    rlu             float64 2.845\n",
      "    rsd             float64 0.01483\n",
      "    rsu             float64 0.05815\n",
      "Err  at toa <xarray.Dataset>\n",
      "Dimensions:         ()\n",
      "Data variables:\n",
      "    plev            float64 0.0\n",
      "    rld             float64 0.0\n",
      "    profile_weight  float64 0.0\n",
      "    rlu             float64 -0.562\n",
      "    rsd             float64 -0.01483\n",
      "    rsu             float64 -0.007025\n",
      "Mean at sfc <xarray.Dataset>\n",
      "Dimensions:         ()\n",
      "Data variables:\n",
      "    plev            float64 0.0\n",
      "    rld             float64 -2.083\n",
      "    profile_weight  float64 0.0\n",
      "    rlu             float64 -0.04165\n",
      "    rsd             float64 0.5344\n",
      "    rsu             float64 0.05609\n",
      "Err  at sfc <xarray.Dataset>\n",
      "Dimensions:         ()\n",
      "Data variables:\n",
      "    plev            float64 0.0\n",
      "    rld             float64 0.4276\n",
      "    profile_weight  float64 0.0\n",
      "    rlu             float64 0.008545\n",
      "    rsd             float64 -0.06422\n",
      "    rsu             float64 -0.005612\n"
     ]
    }
   ],
   "source": [
    "#\n",
    "# Forcing - check defintion (which is PI, PD?)\n",
    "#\n",
    "ref_f = ref.isel(expt=1) - ref.isel(expt=0)\n",
    "new_f = new.isel(expt=1) - new.isel(expt=0)\n",
    "\n",
    "print(\"Forcing relative to PI\")\n",
    "print(\"Mean at toa\", (       ref_f.isel(level=toa)  * ref.variables[\"profile_weight\"]).sum())\n",
    "print(\"Err  at toa\", ((new_f-ref_f).isel(level=toa) * ref.variables[\"profile_weight\"]).sum())\n",
    "print(\"Mean at sfc\", (       ref_f.isel(level=sfc)  * ref.variables[\"profile_weight\"]).sum())\n",
    "print(\"Err  at sfc\", ((new_f-ref_f).isel(level=sfc) * ref.variables[\"profile_weight\"]).sum())\n",
    "\n",
    "\n"
   ]
  },
  {
   "cell_type": "code",
   "execution_count": 3,
   "metadata": {},
   "outputs": [
    {
     "name": "stdout",
     "output_type": "stream",
     "text": [
      "Range in errrors in longwave fluxes by experiment\n",
      "rld [-1.8345642 -1.2353821 -1.7793121 -1.8327637 -2.015686  -1.847168\n",
      " -1.8350525 -2.1949005 -1.7826538 -1.7366638 -1.8306274 -1.8549194\n",
      " -1.3552856 -1.9270935 -1.8694763 -4.086334  -1.8617554 -1.2713013]\n",
      "    [3.0360718 3.2490845 3.0119324 3.0381165 3.1241455 2.9821777 2.969513\n",
      " 3.3969727 3.0891724 3.054596  3.0319214 3.0102844 3.205597  3.1357422\n",
      " 3.6026    2.6705322 3.160797  3.255127 ]\n",
      "rlu [ -1.6108093  -1.7380066  -1.7139587  -1.6134338  -1.3541565  -1.6278687\n",
      "  -1.6708374  -2.058838   -1.581665   -1.6083984  -1.6051025  -1.5898743\n",
      "  -1.8230286 -18.971985  -18.566406  -18.850525  -65.5618     -1.6076355]\n",
      "    [1.6388245  0.81591797 1.5879517  1.6362     1.699707   1.6339417\n",
      " 1.6085815  1.375824   1.6331787  1.5379639  1.6146545  1.5990906\n",
      " 0.87387085 0.06509399 0.07885742 0.05722046 0.06530762 0.7457886 ]\n",
      "Range in errrors in shortwave fluxes by experiment\n",
      "rsd [-2.2943726 -2.369751 ]\n",
      "    [1.7262955 1.7143631]\n",
      "rsu [-7.986343  -7.9505982]\n",
      "    [12.841804 12.81176 ]\n"
     ]
    }
   ],
   "source": [
    "print(\"Range in errrors in longwave fluxes by experiment\")\n",
    "for v in [\"rld\", \"rlu\"]: \n",
    "  print(v,     (new.variables[v] - ref.variables[v]).min(dim=\"site\").min(dim=\"level\").values) \n",
    "  print(\"   \", (new.variables[v] - ref.variables[v]).max(dim=\"site\").max(dim=\"level\").values)\n",
    "\n",
    "print(\"Range in errrors in shortwave fluxes by experiment\")\n",
    "for v in [\"rsd\", \"rsu\"]: \n",
    "  print(v, \n",
    "        (new.isel(expt=[0,1]).variables[v] - ref.isel(expt=[0,1]).variables[v]).min(dim=\"site\").min(dim=\"level\").values) \n",
    "  print(\"   \", \n",
    "        (new.isel(expt=[0,1]).variables[v] - ref.isel(expt=[0,1]).variables[v]).max(dim=\"site\").max(dim=\"level\").values)\n",
    "\n"
   ]
  },
  {
   "cell_type": "code",
   "execution_count": null,
   "metadata": {},
   "outputs": [],
   "source": [
    "ref.close()\n",
    "new.close()"
   ]
  }
 ],
 "metadata": {
  "kernelspec": {
   "display_name": "Python 3",
   "language": "python",
   "name": "python3"
  },
  "language_info": {
   "codemirror_mode": {
    "name": "ipython",
    "version": 3
   },
   "file_extension": ".py",
   "mimetype": "text/x-python",
   "name": "python",
   "nbconvert_exporter": "python",
   "pygments_lexer": "ipython3",
   "version": "3.6.5"
  }
 },
 "nbformat": 4,
 "nbformat_minor": 2
}
