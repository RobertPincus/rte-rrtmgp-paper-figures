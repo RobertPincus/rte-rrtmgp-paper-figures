{
 "cells": [
  {
   "cell_type": "markdown",
   "metadata": {},
   "source": [
    "# Notebook setup: modules and functions"
   ]
  },
  {
   "cell_type": "code",
   "execution_count": 1,
   "metadata": {},
   "outputs": [],
   "source": [
    "%matplotlib inline\n",
    "import matplotlib.pyplot as plt\n",
    "import seaborn as sb\n",
    "import xarray as xr\n",
    "from netCDF4 import Dataset # Because we will change the netCDF files on disk in some cases\n",
    "import numpy as np                \n",
    "import os, subprocess\n",
    "from shutil import copy2"
   ]
  },
  {
   "cell_type": "code",
   "execution_count": 2,
   "metadata": {},
   "outputs": [],
   "source": [
    "# https://stackoverflow.com/questions/7941226/how-to-add-line-based-on-slope-and-intercept-in-matplotlib\n",
    "def abline(slope, intercept):\n",
    "    \"\"\"Plot a line from slope and intercept\"\"\"\n",
    "    axes = plt.gca()\n",
    "    x_vals = np.array(axes.get_xlim())\n",
    "    y_vals = intercept + slope * x_vals\n",
    "    plt.plot(x_vals, y_vals, '--')   \n",
    "\n",
    "def copyVar(nc_in, nc_out, name) :\n",
    "    nc_out.createVariable(name, nc_in.variables[name].dtype, nc_in.variables[name].dimensions)\n",
    "    nc_out.variables[name].setncatts(nc_in.variables[name].__dict__)\n",
    "    nc_out.variables[name][:] = nc_in.variables[name][:]\n",
    "\n",
    "def plot_err_distribution(fig, axes, quantity, location, ref_file, test_files, test_labels):\n",
    "    \"\"\"Plot the difference in 'quantity' at 'location' between a reference and one or more tests\"\"\"\n",
    "    ref_ds = xr.open_dataset(ref_file)\n",
    "    tst_ds = [xr.open_dataset(f) for f in test_files]\n",
    "\n",
    "    ref = ref_ds.variables[quantity][location,:]\n",
    "    errs = [tf.variables[quantity][location,:] - ref for tf in tst_ds]\n",
    "    ref_ds.close()\n",
    "    [tf.close() for tf in tst_ds]\n",
    "\n",
    "    sb.boxplot(data = errs)\n",
    "    sb.swarmplot(data = errs, color = \"0.25\")\n",
    "    axes.set_ylabel(\"Error (W/m2)\")\n",
    "    axes.set_xticklabels(test_labels)\n",
    "    axes.axhline()\n",
    "    \n",
    "def plot_max_vert_err_distribution(fig, axes, quantity, ref_file, test_files, test_labels, factor=1., yaxisunits=\"W/m2\"):\n",
    "    ref_ds = xr.open_dataset(ref_file)\n",
    "    tst_ds = [xr.open_dataset(f) for f in test_files]\n",
    "    vaxis = \"lay\" if \"lay\" in ref_ds.variables[quantity].dims else \"lev\"\n",
    "    \n",
    "    ref = ref_ds.variables[quantity][:]\n",
    "    errs = [(tf.variables[quantity][:] - ref).max(dim=vaxis)*factor for tf in tst_ds]\n",
    "    ref_ds.close()\n",
    "    [tf.close() for tf in tst_ds]\n",
    "\n",
    "    sb.boxplot(data = errs)\n",
    "    sb.swarmplot(data = errs, color = \"0.25\")\n",
    "    axes.set_ylabel(\"Max error (\" +  yaxisunits +\")\")\n",
    "    axes.set_xticklabels(test_labels)\n",
    "    axes.axhline()    "
   ]
  },
  {
   "cell_type": "code",
   "execution_count": 3,
   "metadata": {},
   "outputs": [],
   "source": [
    "fig_size = 95 "
   ]
  },
  {
   "cell_type": "markdown",
   "metadata": {},
   "source": [
    "# Data from external calculations"
   ]
  },
  {
   "cell_type": "code",
   "execution_count": 4,
   "metadata": {},
   "outputs": [],
   "source": [
    "#\n",
    "# Results from LBLRTM and RRTMG \n",
    "#\n",
    "lw_lblrtm_file = 'data/lblrtm-v12.8-lw-flux-inputs-outputs-garand-r1378.nc'\n",
    "lw_rrtmg_file  = \"data/\" + \"rrtmg-lw-inputs-outputs_alb_0.2_sza_30.nc\"\n",
    "sw_lblrtm_file = 'data/lblrtm-v12.8-sw-dirbeam-flux-inputs-outputs-garand-r1378.nc'\n",
    "sw_charts_file = 'data/charts-sw-inputs-outputs-clear_alb0_sza30.nc'\n",
    "sw_rrtmg_file  = \"data/\" + \"rrtmg-sw-inputs-outputs_alb_0.0_sza_30.nc\"\n",
    "#\n",
    "# Location of surface, top-of-atmosphere\n",
    "#\n",
    "lw_lblrtm = xr.open_dataset(lw_lblrtm_file)\n",
    "toa = (lw_lblrtm.variables['p_lev'][:]).argmin(dim=\"lev\")\n",
    "sfc = (lw_lblrtm.variables['p_lev'][:]).argmax(dim=\"lev\")\n",
    "lw_lblrtm.close()\n",
    "#\n",
    "# heating rates in RRTMG files are in K/d; modify to K/s\n",
    "# net flux is negative in SW file\n",
    "#\n",
    "copy2(lw_rrtmg_file, \"data/\" + \"rrtmg-lw-inputs-outputs.nc\")\n",
    "lw_rrtmg_file = \"data/\" + \"rrtmg-lw-inputs-outputs.nc\"\n",
    "copy2(sw_rrtmg_file, \"data/\" + \"rrtmg-sw-inputs-outputs.nc\")\n",
    "sw_rrtmg_file = \"data/\" + \"rrtmg-sw-inputs-outputs.nc\"\n",
    "for f in [sw_rrtmg_file, lw_rrtmg_file]: \n",
    "    x = Dataset(f, 'a')\n",
    "    x.variables[\"heating_rate\"][:] = x.variables[\"heating_rate\"][:]/86400.\n",
    "    x.close()\n",
    "for f in [sw_rrtmg_file]: \n",
    "    x = Dataset(f, 'a')\n",
    "    x.variables[\"flux_net\"][:] = -x.variables[\"flux_net\"][:]\n",
    "    x.close()\n",
    "\n"
   ]
  },
  {
   "cell_type": "markdown",
   "metadata": {},
   "source": [
    "# RRTMGP calculations"
   ]
  },
  {
   "cell_type": "code",
   "execution_count": 7,
   "metadata": {},
   "outputs": [
    {
     "ename": "FileExistsError",
     "evalue": "[Errno 17] File exists: '/Users/robert/Codes/RRTMGP/trunk/test/flux_compute/test_flux_compute' -> 'flux_compute'",
     "output_type": "error",
     "traceback": [
      "\u001b[0;31m---------------------------------------------------------------------------\u001b[0m",
      "\u001b[0;31mFileExistsError\u001b[0m                           Traceback (most recent call last)",
      "\u001b[0;32m<ipython-input-7-0dc4a58b3b77>\u001b[0m in \u001b[0;36m<module>\u001b[0;34m()\u001b[0m\n\u001b[1;32m     14\u001b[0m \u001b[0mcopy2\u001b[0m\u001b[0;34m(\u001b[0m\u001b[0mrrtmgp_test_dir\u001b[0m \u001b[0;34m+\u001b[0m \u001b[0;34m\"data/coefficients_sw_noscaling.nc\"\u001b[0m\u001b[0;34m,\u001b[0m \u001b[0;34m\"data/\"\u001b[0m\u001b[0;34m)\u001b[0m\u001b[0;34m\u001b[0m\u001b[0m\n\u001b[1;32m     15\u001b[0m \u001b[0;34m\u001b[0m\u001b[0m\n\u001b[0;32m---> 16\u001b[0;31m \u001b[0;32mif\u001b[0m \u001b[0;32mnot\u001b[0m \u001b[0mos\u001b[0m\u001b[0;34m.\u001b[0m\u001b[0mpath\u001b[0m\u001b[0;34m.\u001b[0m\u001b[0misfile\u001b[0m\u001b[0;34m(\u001b[0m\u001b[0mflux_exe_name\u001b[0m\u001b[0;34m)\u001b[0m\u001b[0;34m:\u001b[0m \u001b[0mos\u001b[0m\u001b[0;34m.\u001b[0m\u001b[0msymlink\u001b[0m\u001b[0;34m(\u001b[0m\u001b[0mflux_exe_source\u001b[0m\u001b[0;34m,\u001b[0m \u001b[0mflux_exe_name\u001b[0m\u001b[0;34m)\u001b[0m\u001b[0;34m\u001b[0m\u001b[0m\n\u001b[0m",
      "\u001b[0;31mFileExistsError\u001b[0m: [Errno 17] File exists: '/Users/robert/Codes/RRTMGP/trunk/test/flux_compute/test_flux_compute' -> 'flux_compute'"
     ]
    }
   ],
   "source": [
    "#\n",
    "# Set up the ability to calculate fluxes with RRTMGP \n",
    "#\n",
    "rte_rrtmgp_dir  = os.path.expanduser(\"~\") + \"/Codes/rte-rrtmgp/\"\n",
    "rrtmgp_test_dir = os.path.expanduser(\"~\") + \"/Codes/RRTMGP/trunk/\"\n",
    "flux_exe_source = rrtmgp_test_dir + \"test/flux_compute/test_flux_compute\"\n",
    "flux_exe_name   = \"flux_compute\"\n",
    "#\n",
    "# Coefficient files, executable for Garand atmospheres\n",
    "#\n",
    "copy2(rte_rrtmgp_dir + \"rrtmgp/data/coefficients_lw.nc\", \"data/\")\n",
    "copy2(rte_rrtmgp_dir + \"rrtmgp/data/coefficients_sw.nc\", \"data/\")\n",
    "copy2(rrtmgp_test_dir + \"data/coefficents_lw_noscaling.nc\", \"data/coefficients_lw_noscaling.nc\")\n",
    "copy2(rrtmgp_test_dir + \"data/coefficients_sw_noscaling.nc\", \"data/\")\n",
    "\n",
    "if not os.path.isfile(flux_exe_name): os.symlink(flux_exe_source, flux_exe_name)"
   ]
  },
  {
   "cell_type": "code",
   "execution_count": 6,
   "metadata": {},
   "outputs": [
    {
     "ename": "FileNotFoundError",
     "evalue": "[Errno 2] No such file or directory: './flux_compute': './flux_compute'",
     "output_type": "error",
     "traceback": [
      "\u001b[0;31m---------------------------------------------------------------------------\u001b[0m",
      "\u001b[0;31mFileNotFoundError\u001b[0m                         Traceback (most recent call last)",
      "\u001b[0;32m<ipython-input-6-e2dad0880ee9>\u001b[0m in \u001b[0;36m<module>\u001b[0;34m()\u001b[0m\n\u001b[1;32m     40\u001b[0m \u001b[0;34m\u001b[0m\u001b[0m\n\u001b[1;32m     41\u001b[0m \u001b[0msubprocess\u001b[0m\u001b[0;34m.\u001b[0m\u001b[0mrun\u001b[0m\u001b[0;34m(\u001b[0m\u001b[0;34m[\u001b[0m\u001b[0;34m\"./flux_compute\"\u001b[0m\u001b[0;34m,\u001b[0m \u001b[0msw_rrtmgp_default_file\u001b[0m \u001b[0;34m,\u001b[0m \u001b[0;34m\"data/coefficients_sw.nc\"\u001b[0m\u001b[0;34m]\u001b[0m\u001b[0;34m)\u001b[0m\u001b[0;34m\u001b[0m\u001b[0m\n\u001b[0;32m---> 42\u001b[0;31m \u001b[0msubprocess\u001b[0m\u001b[0;34m.\u001b[0m\u001b[0mrun\u001b[0m\u001b[0;34m(\u001b[0m\u001b[0;34m[\u001b[0m\u001b[0;34m\"./flux_compute\"\u001b[0m\u001b[0;34m,\u001b[0m \u001b[0msw_rrtmgp_untuned_file\u001b[0m\u001b[0;34m,\u001b[0m \u001b[0;34m\"data/coefficients_sw_noscaling.nc\"\u001b[0m\u001b[0;34m]\u001b[0m\u001b[0;34m)\u001b[0m \u001b[0;31m# This is wrong but awaiting new coefficients\u001b[0m\u001b[0;34m\u001b[0m\u001b[0m\n\u001b[0m\u001b[1;32m     43\u001b[0m \u001b[0msubprocess\u001b[0m\u001b[0;34m.\u001b[0m\u001b[0mrun\u001b[0m\u001b[0;34m(\u001b[0m\u001b[0;34m[\u001b[0m\u001b[0;34m\"./flux_compute\"\u001b[0m\u001b[0;34m,\u001b[0m \u001b[0mlw_rrtmgp_3ang_default_file\u001b[0m\u001b[0;34m,\u001b[0m \u001b[0;34m\"data/coefficients_lw.nc\"\u001b[0m\u001b[0;34m]\u001b[0m\u001b[0;34m)\u001b[0m\u001b[0;34m\u001b[0m\u001b[0m\n\u001b[1;32m     44\u001b[0m \u001b[0msubprocess\u001b[0m\u001b[0;34m.\u001b[0m\u001b[0mrun\u001b[0m\u001b[0;34m(\u001b[0m\u001b[0;34m[\u001b[0m\u001b[0;34m\"./flux_compute\"\u001b[0m\u001b[0;34m,\u001b[0m \u001b[0mlw_rrtmgp_3ang_untuned_file\u001b[0m\u001b[0;34m,\u001b[0m \u001b[0;34m\"data/coefficients_lw_noscaling.nc\"\u001b[0m\u001b[0;34m]\u001b[0m\u001b[0;34m)\u001b[0m\u001b[0;34m\u001b[0m\u001b[0m\n",
      "\u001b[0;32m~/anaconda/envs/pangeo/lib/python3.6/subprocess.py\u001b[0m in \u001b[0;36mrun\u001b[0;34m(input, timeout, check, *popenargs, **kwargs)\u001b[0m\n\u001b[1;32m    401\u001b[0m         \u001b[0mkwargs\u001b[0m\u001b[0;34m[\u001b[0m\u001b[0;34m'stdin'\u001b[0m\u001b[0;34m]\u001b[0m \u001b[0;34m=\u001b[0m \u001b[0mPIPE\u001b[0m\u001b[0;34m\u001b[0m\u001b[0m\n\u001b[1;32m    402\u001b[0m \u001b[0;34m\u001b[0m\u001b[0m\n\u001b[0;32m--> 403\u001b[0;31m     \u001b[0;32mwith\u001b[0m \u001b[0mPopen\u001b[0m\u001b[0;34m(\u001b[0m\u001b[0;34m*\u001b[0m\u001b[0mpopenargs\u001b[0m\u001b[0;34m,\u001b[0m \u001b[0;34m**\u001b[0m\u001b[0mkwargs\u001b[0m\u001b[0;34m)\u001b[0m \u001b[0;32mas\u001b[0m \u001b[0mprocess\u001b[0m\u001b[0;34m:\u001b[0m\u001b[0;34m\u001b[0m\u001b[0m\n\u001b[0m\u001b[1;32m    404\u001b[0m         \u001b[0;32mtry\u001b[0m\u001b[0;34m:\u001b[0m\u001b[0;34m\u001b[0m\u001b[0m\n\u001b[1;32m    405\u001b[0m             \u001b[0mstdout\u001b[0m\u001b[0;34m,\u001b[0m \u001b[0mstderr\u001b[0m \u001b[0;34m=\u001b[0m \u001b[0mprocess\u001b[0m\u001b[0;34m.\u001b[0m\u001b[0mcommunicate\u001b[0m\u001b[0;34m(\u001b[0m\u001b[0minput\u001b[0m\u001b[0;34m,\u001b[0m \u001b[0mtimeout\u001b[0m\u001b[0;34m=\u001b[0m\u001b[0mtimeout\u001b[0m\u001b[0;34m)\u001b[0m\u001b[0;34m\u001b[0m\u001b[0m\n",
      "\u001b[0;32m~/anaconda/envs/pangeo/lib/python3.6/subprocess.py\u001b[0m in \u001b[0;36m__init__\u001b[0;34m(self, args, bufsize, executable, stdin, stdout, stderr, preexec_fn, close_fds, shell, cwd, env, universal_newlines, startupinfo, creationflags, restore_signals, start_new_session, pass_fds, encoding, errors)\u001b[0m\n\u001b[1;32m    707\u001b[0m                                 \u001b[0mc2pread\u001b[0m\u001b[0;34m,\u001b[0m \u001b[0mc2pwrite\u001b[0m\u001b[0;34m,\u001b[0m\u001b[0;34m\u001b[0m\u001b[0m\n\u001b[1;32m    708\u001b[0m                                 \u001b[0merrread\u001b[0m\u001b[0;34m,\u001b[0m \u001b[0merrwrite\u001b[0m\u001b[0;34m,\u001b[0m\u001b[0;34m\u001b[0m\u001b[0m\n\u001b[0;32m--> 709\u001b[0;31m                                 restore_signals, start_new_session)\n\u001b[0m\u001b[1;32m    710\u001b[0m         \u001b[0;32mexcept\u001b[0m\u001b[0;34m:\u001b[0m\u001b[0;34m\u001b[0m\u001b[0m\n\u001b[1;32m    711\u001b[0m             \u001b[0;31m# Cleanup if the child failed starting.\u001b[0m\u001b[0;34m\u001b[0m\u001b[0;34m\u001b[0m\u001b[0m\n",
      "\u001b[0;32m~/anaconda/envs/pangeo/lib/python3.6/subprocess.py\u001b[0m in \u001b[0;36m_execute_child\u001b[0;34m(self, args, executable, preexec_fn, close_fds, pass_fds, cwd, env, startupinfo, creationflags, shell, p2cread, p2cwrite, c2pread, c2pwrite, errread, errwrite, restore_signals, start_new_session)\u001b[0m\n\u001b[1;32m   1342\u001b[0m                         \u001b[0;32mif\u001b[0m \u001b[0merrno_num\u001b[0m \u001b[0;34m==\u001b[0m \u001b[0merrno\u001b[0m\u001b[0;34m.\u001b[0m\u001b[0mENOENT\u001b[0m\u001b[0;34m:\u001b[0m\u001b[0;34m\u001b[0m\u001b[0m\n\u001b[1;32m   1343\u001b[0m                             \u001b[0merr_msg\u001b[0m \u001b[0;34m+=\u001b[0m \u001b[0;34m': '\u001b[0m \u001b[0;34m+\u001b[0m \u001b[0mrepr\u001b[0m\u001b[0;34m(\u001b[0m\u001b[0merr_filename\u001b[0m\u001b[0;34m)\u001b[0m\u001b[0;34m\u001b[0m\u001b[0m\n\u001b[0;32m-> 1344\u001b[0;31m                     \u001b[0;32mraise\u001b[0m \u001b[0mchild_exception_type\u001b[0m\u001b[0;34m(\u001b[0m\u001b[0merrno_num\u001b[0m\u001b[0;34m,\u001b[0m \u001b[0merr_msg\u001b[0m\u001b[0;34m,\u001b[0m \u001b[0merr_filename\u001b[0m\u001b[0;34m)\u001b[0m\u001b[0;34m\u001b[0m\u001b[0m\n\u001b[0m\u001b[1;32m   1345\u001b[0m                 \u001b[0;32mraise\u001b[0m \u001b[0mchild_exception_type\u001b[0m\u001b[0;34m(\u001b[0m\u001b[0merr_msg\u001b[0m\u001b[0;34m)\u001b[0m\u001b[0;34m\u001b[0m\u001b[0m\n\u001b[1;32m   1346\u001b[0m \u001b[0;34m\u001b[0m\u001b[0m\n",
      "\u001b[0;31mFileNotFoundError\u001b[0m: [Errno 2] No such file or directory: './flux_compute': './flux_compute'"
     ]
    }
   ],
   "source": [
    "#\n",
    "# RRTMGP calculations \n",
    "#\n",
    "\n",
    "#\n",
    "# Compute RRTMGP LW and SW solution\n",
    "#\n",
    "sw_rrtmgp_default_file = \"data/\" + \"rrtmgp-sw-inputs-outputs-default.nc\"\n",
    "sw_rrtmgp_untuned_file = \"data/\" + \"rrtmgp-sw-inputs-outputs-untuned.nc\"\n",
    "lw_rrtmgp_default_file = \"data/\" + \"rrtmgp-lw-inputs-outputs-default.nc\"\n",
    "lw_rrtmgp_untuned_file = \"data/\" + \"rrtmgp-lw-inputs-outputs-untuned.nc\"\n",
    "\n",
    "copy2(sw_rrtmg_file, sw_rrtmgp_default_file)\n",
    "copy2(sw_rrtmg_file, sw_rrtmgp_untuned_file)\n",
    "copy2(lw_rrtmg_file, lw_rrtmgp_default_file)\n",
    "copy2(lw_rrtmg_file, lw_rrtmgp_untuned_file)\n",
    "\n",
    "# Compute three-angle solutions - use the LBLRTM setup but remove the \n",
    "#   angle dimension and any variables that use it, then create a new\n",
    "#   angle dimension of length 3 (this is how the RRTMGP driver knows \n",
    "#   how many quadrature angles to use)\n",
    "#\n",
    "\n",
    "lw_rrtmgp_3ang_default_file = \"data/\" + \"rrtmgp-lw-inputs-outputs-3angle-default.nc\"\n",
    "lw_rrtmgp_3ang_untuned_file = \"data/\" + \"rrtmgp-lw-inputs-outputs-3angle-untuned.nc\"\n",
    "\n",
    "varsToDel = ['angle', 'angle_secant', 'angle_weight']\n",
    "dimsToDel = ['angle']\n",
    "\n",
    "for fn in [lw_rrtmgp_3ang_default_file, lw_rrtmgp_3ang_untuned_file]:\n",
    "  f    = Dataset(fn, 'w')\n",
    "  oldF = Dataset(lw_lblrtm_file)  \n",
    "  for d in oldF.dimensions: \n",
    "    if not d in dimsToDel: f.createDimension(oldF.dimensions[d].name, oldF.dimensions[d].size)\n",
    "  for v in oldF.variables:  \n",
    "    if not v in varsToDel: copyVar(oldF, f, v)\n",
    "  oldF.close()\n",
    "  f.createDimension(\"angle\", 3)\n",
    "  f.close()\n",
    "\n",
    "subprocess.run([\"./flux_compute\", sw_rrtmgp_default_file , \"data/coefficients_sw.nc\"])\n",
    "subprocess.run([\"./flux_compute\", sw_rrtmgp_untuned_file, \"data/coefficients_sw_noscaling.nc\"]) # This is wrong but awaiting new coefficients\n",
    "subprocess.run([\"./flux_compute\", lw_rrtmgp_3ang_default_file, \"data/coefficients_lw.nc\"])\n",
    "subprocess.run([\"./flux_compute\", lw_rrtmgp_3ang_untuned_file, \"data/coefficients_lw_noscaling.nc\"])\n",
    "subprocess.run([\"./flux_compute\", lw_rrtmgp_default_file, \"data/coefficients_lw.nc\"])\n",
    "subprocess.run([\"./flux_compute\", lw_rrtmgp_untuned_file, \"data/coefficients_lw_noscaling.nc\"])"
   ]
  },
  {
   "cell_type": "markdown",
   "metadata": {},
   "source": [
    "# Assessing the k-distribution"
   ]
  },
  {
   "cell_type": "code",
   "execution_count": null,
   "metadata": {},
   "outputs": [],
   "source": [
    "#\n",
    "# Assessing the k-distribution: \n",
    "#  LW: three-angle solutions at TOA and SFC\n",
    "#  use RRMTG too because tuned diffusivity angle \n",
    "#\n",
    "spines_to_remove        = ['top', 'right', 'bottom'] \n",
    "\n",
    "fig = plt.figure()\n",
    "axes = fig.add_subplot(111)\n",
    "plot_err_distribution(fig, axes, \"flux_dn\", sfc, lw_lblrtm_file, \\\n",
    "                      [lw_rrtmgp_3ang_default_file, lw_rrtmgp_3ang_untuned_file, lw_rrtmg_file], \\\n",
    "                      [\"Tuned\", \"Untuned\", \"RRTMG\"])\n",
    "fig.suptitle(\"Error in LW flux down at surface for Garand atmos set w.r.t. LBLRTM\")\n",
    "for spine in spines_to_remove: axes.spines[spine].set_visible(False)\n",
    "plt.savefig(\"lw-sfc-kdist-tuning.pdf\", dpi=600)\n",
    "\n",
    "fig = plt.figure()\n",
    "axes = fig.add_subplot(111)\n",
    "plot_err_distribution(fig, axes, \"flux_up\", toa, lw_lblrtm_file, \\\n",
    "                      [lw_rrtmgp_3ang_default_file, lw_rrtmgp_3ang_untuned_file, lw_rrtmg_file], \\\n",
    "                      [\"Tuned\", \"Untuned\", \"RRTMG\"])\n",
    "for spine in spines_to_remove: axes.spines[spine].set_visible(False)\n",
    "fig.suptitle(\"Error in LW flux up at TOA for Garand atmos set w.r.t. LBLRTM\")\n",
    "plt.savefig(\"lw-toa-kdist-tuning.pdf\", dpi=600)\n",
    "\n",
    "#\n",
    "#  SW: direct beam at SFC\n",
    "#    do this for tuned and untuned coefficient files \n",
    "#  use RRMTG too\n",
    "#\n",
    "fig = plt.figure()\n",
    "axes = fig.add_subplot(111)\n",
    "plot_err_distribution(fig, axes, \"flux_dir_dn\", sfc, sw_lblrtm_file, \\\n",
    "                      [sw_rrtmgp_default_file, sw_rrtmgp_untuned_file, sw_rrtmg_file], \\\n",
    "                      [\"Tuned\", \"Untuned\", \"RRTMG\"])\n",
    "for spine in spines_to_remove: axes.spines[spine].set_visible(False)\n",
    "fig.suptitle(\"Error in SW direct flux down at surface for Garand atmos set w.r.t. LBLRTM\")\n",
    "plt.savefig(\"sw-sfc-kdist-tuning.pdf\", dpi=600)"
   ]
  },
  {
   "cell_type": "markdown",
   "metadata": {},
   "source": [
    "# Flux errors"
   ]
  },
  {
   "cell_type": "code",
   "execution_count": null,
   "metadata": {},
   "outputs": [],
   "source": [
    "fig = plt.figure()\n",
    "axes = fig.add_subplot(111)\n",
    "plot_err_distribution(fig, axes, \"flux_dn\", sfc, lw_lblrtm_file, \\\n",
    "                      [lw_rrtmgp_default_file, lw_rrtmgp_untuned_file, lw_rrtmg_file], \\\n",
    "                      [\"Tuned\", \"Untuned\", \"RRTMG\"])\n",
    "for spine in spines_to_remove: axes.spines[spine].set_visible(False)\n",
    "fig.suptitle(\"Error in LW flux down at surface for Garand atmos set w.r.t. LBLRTM\")\n",
    "plt.savefig(\"lw-sfc-total-error.pdf\", dpi=600)\n",
    "\n",
    "fig = plt.figure()\n",
    "axes = fig.add_subplot(111)\n",
    "plot_err_distribution(fig, axes, \"flux_up\", toa, lw_lblrtm_file, \\\n",
    "                      [lw_rrtmgp_default_file, lw_rrtmgp_untuned_file, lw_rrtmg_file], \\\n",
    "                      [\"Tuned\", \"Untuned\", \"RRTMG\"])\n",
    "for spine in spines_to_remove: axes.spines[spine].set_visible(False)\n",
    "fig.suptitle(\"Error in LW flux up at TOA for Garand atmos set w.r.t. LBLRTM\")\n",
    "plt.savefig(\"lw-toa-total-error.pdf\", dpi=600)\n"
   ]
  },
  {
   "cell_type": "code",
   "execution_count": null,
   "metadata": {},
   "outputs": [],
   "source": [
    "fig = plt.figure()\n",
    "axes = fig.add_subplot(111)\n",
    "plot_err_distribution(fig, axes, \"flux_dn\", sfc, sw_charts_file, \\\n",
    "                      [sw_rrtmgp_default_file, sw_rrtmgp_untuned_file, sw_rrtmg_file], \\\n",
    "                      [\"Tuned\", \"Untuned\", \"RRTMG\"])\n",
    "for spine in spines_to_remove: axes.spines[spine].set_visible(False)\n",
    "fig.suptitle(\"Error in sw flux down at surface for Garand atmos set w.r.t. LBLRTM\")\n",
    "plt.savefig(\"sw-sfc-total-error.pdf\", dpi=600)\n",
    "\n",
    "fig = plt.figure()\n",
    "axes = fig.add_subplot(111)\n",
    "plot_err_distribution(fig, axes, \"flux_up\", toa, sw_charts_file, \\\n",
    "                      [sw_rrtmgp_default_file, sw_rrtmgp_untuned_file, sw_rrtmg_file], \\\n",
    "                      [\"Tuned\", \"Untuned\", \"RRTMG\"])\n",
    "for spine in spines_to_remove: axes.spines[spine].set_visible(False)\n",
    "fig.suptitle(\"Error in sw flux up at TOA for Garand atmos set w.r.t. LBLRTM\")\n",
    "plt.savefig(\"sw-toa-total-error.pdf\", dpi=600)\n"
   ]
  },
  {
   "cell_type": "code",
   "execution_count": null,
   "metadata": {},
   "outputs": [],
   "source": [
    "fig = plt.figure()\n",
    "axes = fig.add_subplot(111)\n",
    "plot_max_vert_err_distribution(fig, axes, \"flux_net\", lw_lblrtm_file, \\\n",
    "                      [lw_rrtmgp_default_file, lw_rrtmgp_untuned_file, lw_rrtmg_file], \\\n",
    "                      [\"Tuned\", \"Untuned\", \"RRTMG\"])\n",
    "for spine in spines_to_remove: axes.spines[spine].set_visible(False)\n",
    "fig.suptitle(\"max-in-vertical error in LW net flux Garand atmos set w.r.t. LBLRTM\")\n",
    "\n",
    "fig = plt.figure()\n",
    "axes = fig.add_subplot(111)\n",
    "plot_max_vert_err_distribution(fig, axes, \"flux_net\", sw_charts_file, \\\n",
    "                      [sw_rrtmgp_default_file, sw_rrtmgp_untuned_file, sw_rrtmg_file], \\\n",
    "                      [\"Tuned\", \"Untuned\", \"RRTMG\"])\n",
    "for spine in spines_to_remove: axes.spines[spine].set_visible(False)\n",
    "fig.suptitle(\"max-in-vertical error in SW net flux Garand atmos set w.r.t. LBLRTM\")\n",
    "\n",
    "fig = plt.figure()\n",
    "axes = fig.add_subplot(111)\n",
    "plot_max_vert_err_distribution(fig, axes, \"heating_rate\", lw_lblrtm_file, \\\n",
    "                      [lw_rrtmgp_default_file, lw_rrtmgp_untuned_file, lw_rrtmg_file], \\\n",
    "                      [\"Tuned\", \"Untuned\", \"RRTMG\"], factor=86400.,yaxisunits=\"K/day\")\n",
    "for spine in spines_to_remove: axes.spines[spine].set_visible(False)\n",
    "fig.suptitle(\"max-in-vertical error in LW heating rate Garand atmos set w.r.t. LBLRTM\")\n",
    "\n",
    "fig = plt.figure()\n",
    "axes = fig.add_subplot(111)\n",
    "plot_max_vert_err_distribution(fig, axes, \"heating_rate\", sw_charts_file, \\\n",
    "                      [sw_rrtmgp_default_file, sw_rrtmgp_untuned_file, sw_rrtmg_file], \\\n",
    "                      [\"Tuned\", \"Untuned\", \"RRTMG\"], factor=86400.,yaxisunits=\"K/day\")\n",
    "for spine in spines_to_remove: axes.spines[spine].set_visible(False)\n",
    "fig.suptitle(\"max-in-vertical error in SW heating rate Garand atmos set w.r.t. LBLRTM\")"
   ]
  },
  {
   "cell_type": "code",
   "execution_count": null,
   "metadata": {},
   "outputs": [],
   "source": []
  }
 ],
 "metadata": {
  "kernelspec": {
   "display_name": "Python 3",
   "language": "python",
   "name": "python3"
  },
  "language_info": {
   "codemirror_mode": {
    "name": "ipython",
    "version": 3
   },
   "file_extension": ".py",
   "mimetype": "text/x-python",
   "name": "python",
   "nbconvert_exporter": "python",
   "pygments_lexer": "ipython3",
   "version": "3.6.5"
  }
 },
 "nbformat": 4,
 "nbformat_minor": 2
}
